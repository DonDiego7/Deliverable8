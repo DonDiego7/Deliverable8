{
  "nbformat": 4,
  "nbformat_minor": 0,
  "metadata": {
    "colab": {
      "provenance": [],
      "authorship_tag": "ABX9TyPMCn6YuKTtcpQvvDYFMBr1",
      "include_colab_link": true
    },
    "kernelspec": {
      "name": "python3",
      "display_name": "Python 3"
    },
    "language_info": {
      "name": "python"
    }
  },
  "cells": [
    {
      "cell_type": "markdown",
      "metadata": {
        "id": "view-in-github",
        "colab_type": "text"
      },
      "source": [
        "<a href=\"https://colab.research.google.com/github/DonDiego7/Deliverable8/blob/main/delivarable8.ipynb\" target=\"_parent\"><img src=\"https://colab.research.google.com/assets/colab-badge.svg\" alt=\"Open In Colab\"/></a>"
      ]
    },
    {
      "cell_type": "code",
      "execution_count": 5,
      "metadata": {
        "id": "B32PfZygurqM"
      },
      "outputs": [],
      "source": [
        "import numpy as np"
      ]
    },
    {
      "cell_type": "code",
      "source": [
        "def method_1(input):\n",
        "  return list(np.random.randint(10, 50, input))\n",
        "\n",
        "def method_2(list1):\n",
        "  return sum(list1)"
      ],
      "metadata": {
        "id": "6ifomM0zusyb"
      },
      "execution_count": 6,
      "outputs": []
    },
    {
      "cell_type": "code",
      "source": [
        "while True:\n",
        "  user_input = int(input(\"Enter a value between 5 and 15: \"))\n",
        "  if (user_input >=5) and (user_input<=15): break\n",
        "\n",
        "print(\"User's entrey is: {}\".format(method_1(user_input)))\n",
        "print(\"The result is: {}\".format(method_2(method_1(user_input))))"
      ],
      "metadata": {
        "colab": {
          "base_uri": "https://localhost:8080/"
        },
        "id": "RWHfrBc5uv_Z",
        "outputId": "0afdb2f7-3e07-4dcf-934f-6adaaba1634f"
      },
      "execution_count": 7,
      "outputs": [
        {
          "output_type": "stream",
          "name": "stdout",
          "text": [
            "Enter a value between 5 and 15: 9\n",
            "User's entrey is: [16, 41, 40, 10, 21, 17, 23, 12, 49]\n",
            "The result is: 235\n"
          ]
        }
      ]
    },
    {
      "cell_type": "code",
      "source": [
        "def method_2(list1):\n",
        "  summation = sum(list1)\n",
        "  print(\"Sum is: \".format(method_2(summation)))"
      ],
      "metadata": {
        "id": "zbYiSdJjuyn8"
      },
      "execution_count": 14,
      "outputs": []
    }
  ]
}